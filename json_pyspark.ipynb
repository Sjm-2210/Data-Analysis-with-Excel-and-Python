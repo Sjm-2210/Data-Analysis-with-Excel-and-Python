{
  "cells": [
    {
      "cell_type": "markdown",
      "metadata": {
        "id": "view-in-github",
        "colab_type": "text"
      },
      "source": [
        "<a href=\"https://colab.research.google.com/github/Sjm-2210/Data-Analysis-with-Excel-and-Python/blob/main/json_pyspark.ipynb\" target=\"_parent\"><img src=\"https://colab.research.google.com/assets/colab-badge.svg\" alt=\"Open In Colab\"/></a>"
      ]
    },
    {
      "cell_type": "code",
      "execution_count": 1,
      "metadata": {
        "colab": {
          "base_uri": "https://localhost:8080/"
        },
        "id": "8nTresxx7qt1",
        "outputId": "58180fa3-b22d-40b8-daa6-dd262b562407"
      },
      "outputs": [
        {
          "output_type": "stream",
          "name": "stdout",
          "text": [
            "Collecting pyspark\n",
            "  Downloading pyspark-3.5.1.tar.gz (317.0 MB)\n",
            "\u001b[2K     \u001b[90m━━━━━━━━━━━━━━━━━━━━━━━━━━━━━━━━━━━━━━━━\u001b[0m \u001b[32m317.0/317.0 MB\u001b[0m \u001b[31m4.6 MB/s\u001b[0m eta \u001b[36m0:00:00\u001b[0m\n",
            "\u001b[?25h  Preparing metadata (setup.py) ... \u001b[?25l\u001b[?25hdone\n",
            "Requirement already satisfied: py4j==0.10.9.7 in /usr/local/lib/python3.10/dist-packages (from pyspark) (0.10.9.7)\n",
            "Building wheels for collected packages: pyspark\n",
            "  Building wheel for pyspark (setup.py) ... \u001b[?25l\u001b[?25hdone\n",
            "  Created wheel for pyspark: filename=pyspark-3.5.1-py2.py3-none-any.whl size=317488490 sha256=0758d8b622574078fdd681a9cb03b3ef3b56c87d508c3b3bb360b9600984ca22\n",
            "  Stored in directory: /root/.cache/pip/wheels/80/1d/60/2c256ed38dddce2fdd93be545214a63e02fbd8d74fb0b7f3a6\n",
            "Successfully built pyspark\n",
            "Installing collected packages: pyspark\n",
            "Successfully installed pyspark-3.5.1\n"
          ]
        }
      ],
      "source": [
        "pip install pyspark"
      ]
    },
    {
      "cell_type": "code",
      "execution_count": 2,
      "metadata": {
        "id": "-FkwD2Qj8uDC"
      },
      "outputs": [],
      "source": [
        "from pyspark.sql.functions import *"
      ]
    },
    {
      "cell_type": "code",
      "execution_count": 3,
      "metadata": {
        "id": "bSlkAkXW9ZKx"
      },
      "outputs": [],
      "source": [
        "from pyspark.sql import SparkSession"
      ]
    },
    {
      "cell_type": "code",
      "execution_count": 4,
      "metadata": {
        "id": "e70kAR989eg4"
      },
      "outputs": [],
      "source": [
        "spark = SparkSession.builder.appName(\"MyApp\").getOrCreate()"
      ]
    },
    {
      "cell_type": "code",
      "execution_count": 5,
      "metadata": {
        "id": "TK-6QuQP8yWq"
      },
      "outputs": [],
      "source": [
        "rawDF = spark.read.json(\"/content/sample.json\", multiLine = \"true\")"
      ]
    },
    {
      "cell_type": "code",
      "execution_count": 6,
      "metadata": {
        "colab": {
          "base_uri": "https://localhost:8080/"
        },
        "id": "YqFeI_kC9us5",
        "outputId": "abd1d8c2-0465-4f5f-bbe0-e3b9c2d7decd"
      },
      "outputs": [
        {
          "output_type": "stream",
          "name": "stdout",
          "text": [
            "root\n",
            " |-- batters: struct (nullable = true)\n",
            " |    |-- batter: array (nullable = true)\n",
            " |    |    |-- element: struct (containsNull = true)\n",
            " |    |    |    |-- id: string (nullable = true)\n",
            " |    |    |    |-- type: string (nullable = true)\n",
            " |-- id: string (nullable = true)\n",
            " |-- name: string (nullable = true)\n",
            " |-- ppu: double (nullable = true)\n",
            " |-- topping: array (nullable = true)\n",
            " |    |-- element: struct (containsNull = true)\n",
            " |    |    |-- id: string (nullable = true)\n",
            " |    |    |-- type: string (nullable = true)\n",
            " |-- type: string (nullable = true)\n",
            "\n"
          ]
        }
      ],
      "source": [
        "rawDF.printSchema()"
      ]
    },
    {
      "cell_type": "code",
      "execution_count": 7,
      "metadata": {
        "colab": {
          "base_uri": "https://localhost:8080/"
        },
        "id": "u52bVIroB7Sa",
        "outputId": "1f566cbe-c276-4868-99ad-4c68ce28dd89"
      },
      "outputs": [
        {
          "output_type": "stream",
          "name": "stdout",
          "text": [
            "root\n",
            " |-- City: string (nullable = true)\n",
            " |-- Country: string (nullable = true)\n",
            " |-- Decommisioned: boolean (nullable = true)\n",
            " |-- EstimatedPopulation: long (nullable = true)\n",
            " |-- Lat: double (nullable = true)\n",
            " |-- Location: string (nullable = true)\n",
            " |-- LocationText: string (nullable = true)\n",
            " |-- LocationType: string (nullable = true)\n",
            " |-- Long: double (nullable = true)\n",
            " |-- Notes: string (nullable = true)\n",
            " |-- RecordNumber: long (nullable = true)\n",
            " |-- State: string (nullable = true)\n",
            " |-- TaxReturnsFiled: long (nullable = true)\n",
            " |-- TotalWages: long (nullable = true)\n",
            " |-- WorldRegion: string (nullable = true)\n",
            " |-- Xaxis: double (nullable = true)\n",
            " |-- Yaxis: double (nullable = true)\n",
            " |-- Zaxis: double (nullable = true)\n",
            " |-- ZipCodeType: string (nullable = true)\n",
            " |-- Zipcode: long (nullable = true)\n",
            "\n",
            "+-------------------+-------+-------------+-------------------+-----+--------------------+--------------------+--------------+-------+-------------+------------+-----+---------------+----------+-----------+-----+-----+-----+-----------+-------+\n",
            "|               City|Country|Decommisioned|EstimatedPopulation|  Lat|            Location|        LocationText|  LocationType|   Long|        Notes|RecordNumber|State|TaxReturnsFiled|TotalWages|WorldRegion|Xaxis|Yaxis|Zaxis|ZipCodeType|Zipcode|\n",
            "+-------------------+-------+-------------+-------------------+-----+--------------------+--------------------+--------------+-------+-------------+------------+-----+---------------+----------+-----------+-----+-----+-----+-----------+-------+\n",
            "|        PARC PARQUE|     US|        false|               NULL|17.96|NA-US-PR-PARC PARQUE|     Parc Parque, PR|NOT ACCEPTABLE| -66.22|         NULL|           1|   PR|           NULL|      NULL|         NA| 0.38|-0.87|  0.3|   STANDARD|    704|\n",
            "|PASEO COSTA DEL SUR|     US|        false|               NULL|17.96|NA-US-PR-PASEO CO...|Paseo Costa Del S...|NOT ACCEPTABLE| -66.22|         NULL|           2|   PR|           NULL|      NULL|         NA| 0.38|-0.87|  0.3|   STANDARD|    704|\n",
            "|       BDA SAN LUIS|     US|        false|               NULL|18.14|NA-US-PR-BDA SAN ...|    Bda San Luis, PR|NOT ACCEPTABLE| -66.26|         NULL|          10|   PR|           NULL|      NULL|         NA| 0.38|-0.86| 0.31|   STANDARD|    709|\n",
            "|  CINGULAR WIRELESS|     US|        false|               NULL|32.72|NA-US-TX-CINGULAR...|Cingular Wireless...|NOT ACCEPTABLE| -97.31|         NULL|       61391|   TX|           NULL|      NULL|         NA| -0.1|-0.83| 0.54|     UNIQUE|  76166|\n",
            "|         FORT WORTH|     US|        false|               4053|32.75| NA-US-TX-FORT WORTH|      Fort Worth, TX|       PRIMARY| -97.33|         NULL|       61392|   TX|           2126| 122396986|         NA| -0.1|-0.83| 0.54|   STANDARD|  76177|\n",
            "|           FT WORTH|     US|        false|               4053|32.75|   NA-US-TX-FT WORTH|        Ft Worth, TX|    ACCEPTABLE| -97.33|         NULL|       61393|   TX|           2126| 122396986|         NA| -0.1|-0.83| 0.54|   STANDARD|  76177|\n",
            "|    URB EUGENE RICE|     US|        false|               NULL|17.96|NA-US-PR-URB EUGE...| Urb Eugene Rice, PR|NOT ACCEPTABLE| -66.22|         NULL|           4|   PR|           NULL|      NULL|         NA| 0.38|-0.87|  0.3|   STANDARD|    704|\n",
            "|               MESA|     US|        false|              26883|33.37|       NA-US-AZ-MESA|            Mesa, AZ|       PRIMARY|-111.64|no NWS data, |       39827|   AZ|          14962| 563792730|         NA| -0.3|-0.77| 0.55|   STANDARD|  85209|\n",
            "|               MESA|     US|        false|              25446|33.38|       NA-US-AZ-MESA|            Mesa, AZ|       PRIMARY|-111.84|         NULL|       39828|   AZ|          14374| 471000465|         NA|-0.31|-0.77| 0.55|   STANDARD|  85210|\n",
            "|           HILLIARD|     US|        false|               7443|30.69|   NA-US-FL-HILLIARD|        Hilliard, FL|       PRIMARY| -81.92|         NULL|       49345|   FL|           3922| 133112149|         NA| 0.12|-0.85| 0.51|   STANDARD|  32046|\n",
            "|             HOLDER|     US|        false|               NULL|28.96|     NA-US-FL-HOLDER|          Holder, FL|       PRIMARY| -82.41|         NULL|       49346|   FL|           NULL|      NULL|         NA| 0.11|-0.86| 0.48|     PO BOX|  34445|\n",
            "|               HOLT|     US|        false|               2190|30.72|       NA-US-FL-HOLT|            Holt, FL|       PRIMARY| -86.67|         NULL|       49347|   FL|           1207|  36395913|         NA| 0.04|-0.85| 0.51|   STANDARD|  32564|\n",
            "|          HOMOSASSA|     US|        false|               NULL|28.78|  NA-US-FL-HOMOSASSA|       Homosassa, FL|       PRIMARY| -82.61|         NULL|       49348|   FL|           NULL|      NULL|         NA| 0.11|-0.86| 0.48|     PO BOX|  34487|\n",
            "|       BDA SAN LUIS|     US|        false|               NULL|18.14|NA-US-PR-BDA SAN ...|    Bda San Luis, PR|NOT ACCEPTABLE| -66.26|         NULL|          10|   PR|           NULL|      NULL|         NA| 0.38|-0.86| 0.31|   STANDARD|    708|\n",
            "|      SECT LANAUSSE|     US|        false|               NULL|17.96|NA-US-PR-SECT LAN...|   Sect Lanausse, PR|NOT ACCEPTABLE| -66.22|         NULL|           3|   PR|           NULL|      NULL|         NA| 0.38|-0.87|  0.3|   STANDARD|    704|\n",
            "|      SPRING GARDEN|     US|        false|               NULL|33.97|NA-US-AL-SPRING G...|   Spring Garden, AL|       PRIMARY| -85.55|         NULL|       54354|   AL|           NULL|      NULL|         NA| 0.06|-0.82| 0.55|     PO BOX|  36275|\n",
            "|        SPRINGVILLE|     US|        false|               7845|33.77|NA-US-AL-SPRINGVILLE|     Springville, AL|       PRIMARY| -86.47|         NULL|       54355|   AL|           4046| 172127599|         NA| 0.05|-0.82| 0.55|   STANDARD|  35146|\n",
            "|        SPRUCE PINE|     US|        false|               1209|34.37|NA-US-AL-SPRUCE PINE|     Spruce Pine, AL|       PRIMARY| -87.69|         NULL|       54356|   AL|            610|  18525517|         NA| 0.03|-0.82| 0.56|   STANDARD|  35585|\n",
            "|           ASH HILL|     US|        false|               1666| 36.4|   NA-US-NC-ASH HILL|        Ash Hill, NC|NOT ACCEPTABLE| -80.56|         NULL|       76511|   NC|            842|  28876493|         NA| 0.13|-0.79| 0.59|   STANDARD|  27007|\n",
            "|           ASHEBORO|     US|        false|              15228|35.71|   NA-US-NC-ASHEBORO|        Asheboro, NC|       PRIMARY| -79.81|         NULL|       76512|   NC|           8355| 215474318|         NA| 0.14|-0.79| 0.58|   STANDARD|  27203|\n",
            "+-------------------+-------+-------------+-------------------+-----+--------------------+--------------------+--------------+-------+-------------+------------+-----+---------------+----------+-----------+-----+-----+-----+-----------+-------+\n",
            "only showing top 20 rows\n",
            "\n"
          ]
        }
      ],
      "source": [
        "# Read JSON file into dataframe\n",
        "df = spark.read.json(\"/content/zipcodes.json\")\n",
        "df.printSchema()\n",
        "df.show()"
      ]
    },
    {
      "cell_type": "code",
      "source": [
        "# Read multiline json file\n",
        "multiline_df = spark.read.option(\"multiline\",\"true\") \\\n",
        "      .json(\"/content/multiline-zipcode.json\")\n",
        "multiline_df.show()"
      ],
      "metadata": {
        "colab": {
          "base_uri": "https://localhost:8080/"
        },
        "id": "qwzdYpVFvl_I",
        "outputId": "25f5bb58-07f1-45f8-a996-ed2b81ef7cbd"
      },
      "execution_count": 8,
      "outputs": [
        {
          "output_type": "stream",
          "name": "stdout",
          "text": [
            "+-------------------+------------+-----+-----------+-------+\n",
            "|               City|RecordNumber|State|ZipCodeType|Zipcode|\n",
            "+-------------------+------------+-----+-----------+-------+\n",
            "|PASEO COSTA DEL SUR|           2|   PR|   STANDARD|    704|\n",
            "|       BDA SAN LUIS|          10|   PR|   STANDARD|    709|\n",
            "+-------------------+------------+-----+-----------+-------+\n",
            "\n"
          ]
        }
      ]
    },
    {
      "cell_type": "code",
      "source": [
        "df2 = spark.read.json(\n",
        "    ['/content/sample_data','/content/zipcodes.json'])\n",
        "df2.show()"
      ],
      "metadata": {
        "colab": {
          "base_uri": "https://localhost:8080/"
        },
        "id": "SSJA3GpZv3vS",
        "outputId": "2cd2a9ae-f3d0-40ca-b7ff-5df070358511"
      },
      "execution_count": 9,
      "outputs": [
        {
          "output_type": "stream",
          "name": "stdout",
          "text": [
            "+----+-------+-------------+-------------------+----+--------+------------+------------+----+-----+------------+------+-----+---------------+----------+-----------+----+-----+----+-----+-----+-----------+-------+--------------------+\n",
            "|City|Country|Decommisioned|EstimatedPopulation| Lat|Location|LocationText|LocationType|Long|Notes|RecordNumber|Series|State|TaxReturnsFiled|TotalWages|WorldRegion|   X|Xaxis|   Y|Yaxis|Zaxis|ZipCodeType|Zipcode|     _corrupt_record|\n",
            "+----+-------+-------------+-------------------+----+--------+------------+------------+----+-----+------------+------+-----+---------------+----------+-----------+----+-----+----+-----+-----+-----------+-------+--------------------+\n",
            "|NULL|   NULL|         NULL|               NULL|NULL|    NULL|        NULL|        NULL|NULL| NULL|        NULL|  NULL| NULL|           NULL|      NULL|       NULL|NULL| NULL|NULL| NULL| NULL|       NULL|   NULL|6,0,0,0,0,0,0,0,0...|\n",
            "|NULL|   NULL|         NULL|               NULL|NULL|    NULL|        NULL|        NULL|NULL| NULL|        NULL|  NULL| NULL|           NULL|      NULL|       NULL|NULL| NULL|NULL| NULL| NULL|       NULL|   NULL|5,0,0,0,0,0,0,0,0...|\n",
            "|NULL|   NULL|         NULL|               NULL|NULL|    NULL|        NULL|        NULL|NULL| NULL|        NULL|  NULL| NULL|           NULL|      NULL|       NULL|NULL| NULL|NULL| NULL| NULL|       NULL|   NULL|7,0,0,0,0,0,0,0,0...|\n",
            "|NULL|   NULL|         NULL|               NULL|NULL|    NULL|        NULL|        NULL|NULL| NULL|        NULL|  NULL| NULL|           NULL|      NULL|       NULL|NULL| NULL|NULL| NULL| NULL|       NULL|   NULL|9,0,0,0,0,0,0,0,0...|\n",
            "|NULL|   NULL|         NULL|               NULL|NULL|    NULL|        NULL|        NULL|NULL| NULL|        NULL|  NULL| NULL|           NULL|      NULL|       NULL|NULL| NULL|NULL| NULL| NULL|       NULL|   NULL|5,0,0,0,0,0,0,0,0...|\n",
            "|NULL|   NULL|         NULL|               NULL|NULL|    NULL|        NULL|        NULL|NULL| NULL|        NULL|  NULL| NULL|           NULL|      NULL|       NULL|NULL| NULL|NULL| NULL| NULL|       NULL|   NULL|2,0,0,0,0,0,0,0,0...|\n",
            "|NULL|   NULL|         NULL|               NULL|NULL|    NULL|        NULL|        NULL|NULL| NULL|        NULL|  NULL| NULL|           NULL|      NULL|       NULL|NULL| NULL|NULL| NULL| NULL|       NULL|   NULL|0,0,0,0,0,0,0,0,0...|\n",
            "|NULL|   NULL|         NULL|               NULL|NULL|    NULL|        NULL|        NULL|NULL| NULL|        NULL|  NULL| NULL|           NULL|      NULL|       NULL|NULL| NULL|NULL| NULL| NULL|       NULL|   NULL|6,0,0,0,0,0,0,0,0...|\n",
            "|NULL|   NULL|         NULL|               NULL|NULL|    NULL|        NULL|        NULL|NULL| NULL|        NULL|  NULL| NULL|           NULL|      NULL|       NULL|NULL| NULL|NULL| NULL| NULL|       NULL|   NULL|5,0,0,0,0,0,0,0,0...|\n",
            "|NULL|   NULL|         NULL|               NULL|NULL|    NULL|        NULL|        NULL|NULL| NULL|        NULL|  NULL| NULL|           NULL|      NULL|       NULL|NULL| NULL|NULL| NULL| NULL|       NULL|   NULL|5,0,0,0,0,0,0,0,0...|\n",
            "|NULL|   NULL|         NULL|               NULL|NULL|    NULL|        NULL|        NULL|NULL| NULL|        NULL|  NULL| NULL|           NULL|      NULL|       NULL|NULL| NULL|NULL| NULL| NULL|       NULL|   NULL|2,0,0,0,0,0,0,0,0...|\n",
            "|NULL|   NULL|         NULL|               NULL|NULL|    NULL|        NULL|        NULL|NULL| NULL|        NULL|  NULL| NULL|           NULL|      NULL|       NULL|NULL| NULL|NULL| NULL| NULL|       NULL|   NULL|7,0,0,0,0,0,0,0,0...|\n",
            "|NULL|   NULL|         NULL|               NULL|NULL|    NULL|        NULL|        NULL|NULL| NULL|        NULL|  NULL| NULL|           NULL|      NULL|       NULL|NULL| NULL|NULL| NULL| NULL|       NULL|   NULL|7,0,0,0,0,0,0,0,0...|\n",
            "|NULL|   NULL|         NULL|               NULL|NULL|    NULL|        NULL|        NULL|NULL| NULL|        NULL|  NULL| NULL|           NULL|      NULL|       NULL|NULL| NULL|NULL| NULL| NULL|       NULL|   NULL|6,0,0,0,0,0,0,0,0...|\n",
            "|NULL|   NULL|         NULL|               NULL|NULL|    NULL|        NULL|        NULL|NULL| NULL|        NULL|  NULL| NULL|           NULL|      NULL|       NULL|NULL| NULL|NULL| NULL| NULL|       NULL|   NULL|8,0,0,0,0,0,0,0,0...|\n",
            "|NULL|   NULL|         NULL|               NULL|NULL|    NULL|        NULL|        NULL|NULL| NULL|        NULL|  NULL| NULL|           NULL|      NULL|       NULL|NULL| NULL|NULL| NULL| NULL|       NULL|   NULL|9,0,0,0,0,0,0,0,0...|\n",
            "|NULL|   NULL|         NULL|               NULL|NULL|    NULL|        NULL|        NULL|NULL| NULL|        NULL|  NULL| NULL|           NULL|      NULL|       NULL|NULL| NULL|NULL| NULL| NULL|       NULL|   NULL|3,0,0,0,0,0,0,0,0...|\n",
            "|NULL|   NULL|         NULL|               NULL|NULL|    NULL|        NULL|        NULL|NULL| NULL|        NULL|  NULL| NULL|           NULL|      NULL|       NULL|NULL| NULL|NULL| NULL| NULL|       NULL|   NULL|5,0,0,0,0,0,0,0,0...|\n",
            "|NULL|   NULL|         NULL|               NULL|NULL|    NULL|        NULL|        NULL|NULL| NULL|        NULL|  NULL| NULL|           NULL|      NULL|       NULL|NULL| NULL|NULL| NULL| NULL|       NULL|   NULL|7,0,0,0,0,0,0,0,0...|\n",
            "|NULL|   NULL|         NULL|               NULL|NULL|    NULL|        NULL|        NULL|NULL| NULL|        NULL|  NULL| NULL|           NULL|      NULL|       NULL|NULL| NULL|NULL| NULL| NULL|       NULL|   NULL|6,0,0,0,0,0,0,0,0...|\n",
            "+----+-------+-------------+-------------------+----+--------+------------+------------+----+-----+------------+------+-----+---------------+----------+-----------+----+-----+----+-----+-----+-----------+-------+--------------------+\n",
            "only showing top 20 rows\n",
            "\n"
          ]
        }
      ]
    }
  ],
  "metadata": {
    "colab": {
      "provenance": [],
      "authorship_tag": "ABX9TyM5r/0rwEfOm6UbxJTE7Wys",
      "include_colab_link": true
    },
    "kernelspec": {
      "display_name": "Python 3",
      "name": "python3"
    },
    "language_info": {
      "name": "python"
    }
  },
  "nbformat": 4,
  "nbformat_minor": 0
}